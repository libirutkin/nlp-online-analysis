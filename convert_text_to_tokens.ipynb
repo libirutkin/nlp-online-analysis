{
 "cells": [
  {
   "cell_type": "code",
   "execution_count": 1,
   "metadata": {},
   "outputs": [],
   "source": [
    "import pandas as pd"
   ]
  },
  {
   "cell_type": "code",
   "execution_count": 2,
   "metadata": {},
   "outputs": [],
   "source": [
    "file_type = 'thread'\n",
    "field_name = 'title'"
   ]
  },
  {
   "cell_type": "code",
   "execution_count": 3,
   "metadata": {},
   "outputs": [],
   "source": [
    "df = pd.read_csv(f'{file_type}_with_yap.csv')"
   ]
  },
  {
   "cell_type": "code",
   "execution_count": 4,
   "metadata": {},
   "outputs": [],
   "source": [
    "df_err = df.loc[df[f'{field_name}_dict'].str.contains('error')]"
   ]
  },
  {
   "cell_type": "code",
   "execution_count": 5,
   "metadata": {},
   "outputs": [
    {
     "name": "stdout",
     "output_type": "stream",
     "text": [
      "ratio of errors 0.07281242494596109\n"
     ]
    }
   ],
   "source": [
    "ratio = float(df_err.shape[0]) / df.shape[0]\n",
    "print(f'ratio of errors {ratio}')"
   ]
  },
  {
   "cell_type": "code",
   "execution_count": 6,
   "metadata": {},
   "outputs": [],
   "source": [
    "df = df.loc[~df[f'{field_name}_dict'].str.contains('error')]"
   ]
  },
  {
   "cell_type": "code",
   "execution_count": 7,
   "metadata": {},
   "outputs": [],
   "source": [
    "def get_tokenized_from_md_lattice(md_lattice_text,use_lemma=True,keep_only_NN=False):\n",
    "    tokens = list()\n",
    "    token_blocks = md_lattice_text.split('\\n')\n",
    "    for token_block in token_blocks:\n",
    "        token_block_parts = token_block.split('\\t')\n",
    "        if len(token_block_parts) > 2:\n",
    "            if keep_only_NN and token_block_parts[4] != 'NN':\n",
    "                continue\n",
    "            if use_lemma:\n",
    "                tokens.append(token_block_parts[2])\n",
    "            else:\n",
    "                tokens.append(token_block_parts[3])\n",
    "    return tokens"
   ]
  },
  {
   "cell_type": "code",
   "execution_count": 8,
   "metadata": {},
   "outputs": [],
   "source": [
    "df['token_set'] = df[f'{field_name}_dict'].apply(lambda x: get_tokenized_from_md_lattice(eval(x)['md_lattice'], False, True))"
   ]
  },
  {
   "cell_type": "code",
   "execution_count": 9,
   "metadata": {},
   "outputs": [
    {
     "data": {
      "text/html": [
       "<div>\n",
       "<style scoped>\n",
       "    .dataframe tbody tr th:only-of-type {\n",
       "        vertical-align: middle;\n",
       "    }\n",
       "\n",
       "    .dataframe tbody tr th {\n",
       "        vertical-align: top;\n",
       "    }\n",
       "\n",
       "    .dataframe thead th {\n",
       "        text-align: right;\n",
       "    }\n",
       "</style>\n",
       "<table border=\"1\" class=\"dataframe\">\n",
       "  <thead>\n",
       "    <tr style=\"text-align: right;\">\n",
       "      <th></th>\n",
       "      <th>Unnamed: 0</th>\n",
       "      <th>Unnamed: 0.1</th>\n",
       "      <th>thread_id</th>\n",
       "      <th>title</th>\n",
       "      <th>type</th>\n",
       "      <th>title_dict</th>\n",
       "      <th>token_set</th>\n",
       "    </tr>\n",
       "  </thead>\n",
       "  <tbody>\n",
       "    <tr>\n",
       "      <th>0</th>\n",
       "      <td>0</td>\n",
       "      <td>0</td>\n",
       "      <td>20216916</td>\n",
       "      <td>עמותות בצל משבר הקורונה - בואו להתעניין, להיעז...</td>\n",
       "      <td>NaN</td>\n",
       "      <td>{'ma_lattice': '0\\t1\\tעמותות\\tעמותה\\tNNT\\tNNT\\...</td>\n",
       "      <td>[עמותה, קורונה, התעניין,, עזור.]</td>\n",
       "    </tr>\n",
       "    <tr>\n",
       "      <th>1</th>\n",
       "      <td>1</td>\n",
       "      <td>0</td>\n",
       "      <td>20289621</td>\n",
       "      <td>שיבוץ לתפקיד שאני לא רוצה - FXP</td>\n",
       "      <td>NaN</td>\n",
       "      <td>{'ma_lattice': '0\\t1\\tשיבוץ\\tשיבוץ\\tNNT\\tNNT\\t...</td>\n",
       "      <td>[שיבוץ, תפקיד]</td>\n",
       "    </tr>\n",
       "    <tr>\n",
       "      <th>2</th>\n",
       "      <td>2</td>\n",
       "      <td>0</td>\n",
       "      <td>19881195</td>\n",
       "      <td>דרושים מנהלים לפורום צבא וביטחון! - FXP</td>\n",
       "      <td>NaN</td>\n",
       "      <td>{'ma_lattice': '0\\t1\\tדרושים\\tדרש\\tBN\\tBN\\tgen...</td>\n",
       "      <td>[מנהל, צבא, יטחון!]</td>\n",
       "    </tr>\n",
       "    <tr>\n",
       "      <th>3</th>\n",
       "      <td>3</td>\n",
       "      <td>0</td>\n",
       "      <td>19801135</td>\n",
       "      <td>השימושון של פורום צבא וביטחון - FXP</td>\n",
       "      <td>NaN</td>\n",
       "      <td>{'ma_lattice': '0\\t1\\tה\\tה\\tDEF\\tDEF\\t_\\t1\\n0\\...</td>\n",
       "      <td>[שימושון, צבא, ביטחון]</td>\n",
       "    </tr>\n",
       "    <tr>\n",
       "      <th>4</th>\n",
       "      <td>4</td>\n",
       "      <td>0</td>\n",
       "      <td>20246418</td>\n",
       "      <td>יום הזיכרון בFXP - פורום הנצחה והזדהות - FXP</td>\n",
       "      <td>NaN</td>\n",
       "      <td>{'ma_lattice': '0\\t1\\tיום\\tיום\\tNNT\\tNNT\\tgen=...</td>\n",
       "      <td>[זיכרון, הנצחה, הזדהות]</td>\n",
       "    </tr>\n",
       "  </tbody>\n",
       "</table>\n",
       "</div>"
      ],
      "text/plain": [
       "   Unnamed: 0  Unnamed: 0.1  thread_id  \\\n",
       "0           0             0   20216916   \n",
       "1           1             0   20289621   \n",
       "2           2             0   19881195   \n",
       "3           3             0   19801135   \n",
       "4           4             0   20246418   \n",
       "\n",
       "                                               title  type  \\\n",
       "0  עמותות בצל משבר הקורונה - בואו להתעניין, להיעז...   NaN   \n",
       "1                    שיבוץ לתפקיד שאני לא רוצה - FXP   NaN   \n",
       "2            דרושים מנהלים לפורום צבא וביטחון! - FXP   NaN   \n",
       "3                השימושון של פורום צבא וביטחון - FXP   NaN   \n",
       "4       יום הזיכרון בFXP - פורום הנצחה והזדהות - FXP   NaN   \n",
       "\n",
       "                                          title_dict  \\\n",
       "0  {'ma_lattice': '0\\t1\\tעמותות\\tעמותה\\tNNT\\tNNT\\...   \n",
       "1  {'ma_lattice': '0\\t1\\tשיבוץ\\tשיבוץ\\tNNT\\tNNT\\t...   \n",
       "2  {'ma_lattice': '0\\t1\\tדרושים\\tדרש\\tBN\\tBN\\tgen...   \n",
       "3  {'ma_lattice': '0\\t1\\tה\\tה\\tDEF\\tDEF\\t_\\t1\\n0\\...   \n",
       "4  {'ma_lattice': '0\\t1\\tיום\\tיום\\tNNT\\tNNT\\tgen=...   \n",
       "\n",
       "                          token_set  \n",
       "0  [עמותה, קורונה, התעניין,, עזור.]  \n",
       "1                    [שיבוץ, תפקיד]  \n",
       "2               [מנהל, צבא, יטחון!]  \n",
       "3            [שימושון, צבא, ביטחון]  \n",
       "4           [זיכרון, הנצחה, הזדהות]  "
      ]
     },
     "execution_count": 9,
     "metadata": {},
     "output_type": "execute_result"
    }
   ],
   "source": [
    "df.head()"
   ]
  },
  {
   "cell_type": "code",
   "execution_count": 10,
   "metadata": {},
   "outputs": [],
   "source": [
    "corpus = df['token_set'].tolist()"
   ]
  },
  {
   "cell_type": "code",
   "execution_count": 11,
   "metadata": {},
   "outputs": [],
   "source": [
    "import pickle\n",
    "with open(f'{file_type}_{field_name}_token_lists.pickle', 'wb') as handle:\n",
    "    pickle.dump(corpus, handle, protocol=pickle.HIGHEST_PROTOCOL)"
   ]
  }
 ],
 "metadata": {
  "kernelspec": {
   "display_name": "Python 3",
   "language": "python",
   "name": "python3"
  },
  "language_info": {
   "codemirror_mode": {
    "name": "ipython",
    "version": 3
   },
   "file_extension": ".py",
   "mimetype": "text/x-python",
   "name": "python",
   "nbconvert_exporter": "python",
   "pygments_lexer": "ipython3",
   "version": "3.6.9"
  }
 },
 "nbformat": 4,
 "nbformat_minor": 4
}
