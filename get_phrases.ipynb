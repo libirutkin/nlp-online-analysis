{
 "cells": [
  {
   "cell_type": "code",
   "execution_count": 11,
   "metadata": {},
   "outputs": [],
   "source": [
    "import pandas as pd\n",
    "import pickle\n",
    "import re"
   ]
  },
  {
   "cell_type": "code",
   "execution_count": 12,
   "metadata": {},
   "outputs": [],
   "source": [
    "file_type = 'thread'\n",
    "field_name = 'title'"
   ]
  },
  {
   "cell_type": "code",
   "execution_count": 13,
   "metadata": {},
   "outputs": [],
   "source": [
    "pickle_file = open(f'{file_type}_{field_name}_token_lists.pickle', \"rb\" )\n",
    "corpus = pickle.load( pickle_file )\n",
    "pickle_file.close()"
   ]
  },
  {
   "cell_type": "code",
   "execution_count": 14,
   "metadata": {},
   "outputs": [],
   "source": [
    "clean_corpus = list()\n",
    "for document in corpus:\n",
    "    clean_document = list()\n",
    "    for word in document:\n",
    "        if len(word) > 1:\n",
    "            clean_document.append(re.sub(r\"[\\?|!|\\.|,:|_]\", '', word))\n",
    "    clean_corpus.append(clean_document)\n",
    "corpus = clean_corpus"
   ]
  },
  {
   "cell_type": "code",
   "execution_count": 17,
   "metadata": {},
   "outputs": [],
   "source": [
    "from gensim.models import Phrases\n",
    "bigrams_ = set()\n",
    "trigrams_ = set()\n",
    "bigram = Phrases(corpus, min_count=1, threshold=2)\n",
    "trigram = Phrases(bigram[corpus], min_count=1, delimiter=b'_')\n",
    "for sent in corpus:\n",
    "    bigrams_ = bigrams_.union({b for b in bigram[sent] if b.count('_') == 1})\n",
    "    trigrams_ = trigrams_.union({t for t in trigram[bigram[sent]] if t.count('_') == 2})"
   ]
  },
  {
   "cell_type": "code",
   "execution_count": 18,
   "metadata": {},
   "outputs": [],
   "source": [
    "f = open('phrases.txt','w')\n",
    "for phrase in bigrams_:\n",
    "    f.write(f'{phrase}\\n')\n",
    "for phrase in trigrams_:\n",
    "    f.write(f'{phrase}\\n')\n",
    "f.close()"
   ]
  }
 ],
 "metadata": {
  "kernelspec": {
   "display_name": "Python 3",
   "language": "python",
   "name": "python3"
  },
  "language_info": {
   "codemirror_mode": {
    "name": "ipython",
    "version": 3
   },
   "file_extension": ".py",
   "mimetype": "text/x-python",
   "name": "python",
   "nbconvert_exporter": "python",
   "pygments_lexer": "ipython3",
   "version": "3.6.9"
  }
 },
 "nbformat": 4,
 "nbformat_minor": 4
}
