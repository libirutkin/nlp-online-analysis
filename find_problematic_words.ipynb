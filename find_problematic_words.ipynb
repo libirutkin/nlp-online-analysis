{
 "cells": [
  {
   "cell_type": "code",
   "execution_count": 2,
   "metadata": {},
   "outputs": [],
   "source": [
    "##Creating a list of stop words and adding custom stopwords\n",
    "import codecs\n",
    "with codecs.open('bgulex.utf8.hr', 'r', encoding='utf8') as f:\n",
    "    text = f.read()"
   ]
  },
  {
   "cell_type": "code",
   "execution_count": 15,
   "metadata": {},
   "outputs": [],
   "source": [
    "file_type = 'thread'\n",
    "field_name = 'title'"
   ]
  },
  {
   "cell_type": "code",
   "execution_count": 3,
   "metadata": {},
   "outputs": [],
   "source": [
    "lines = text.split('\\n')"
   ]
  },
  {
   "cell_type": "code",
   "execution_count": 10,
   "metadata": {},
   "outputs": [],
   "source": [
    "words_in_heb_dict = set()\n",
    "for line in lines:\n",
    "    word = line.split(':')[0].split(' ')[0].strip().replace(' DEF','')\n",
    "    if len(word) > 0:\n",
    "        words_in_heb_dict.add(word)"
   ]
  },
  {
   "cell_type": "code",
   "execution_count": 20,
   "metadata": {},
   "outputs": [],
   "source": [
    "import pickle\n",
    "import re"
   ]
  },
  {
   "cell_type": "code",
   "execution_count": 16,
   "metadata": {},
   "outputs": [],
   "source": [
    "pickle_file = open(f'{file_type}_{field_name}_token_lists.pickle', \"rb\" )\n",
    "corpus = pickle.load( pickle_file )\n",
    "pickle_file.close()"
   ]
  },
  {
   "cell_type": "code",
   "execution_count": 28,
   "metadata": {},
   "outputs": [],
   "source": [
    "problem_words = list()\n",
    "good_words = list()\n",
    "for sentence in corpus:\n",
    "    for raw_word in sentence:\n",
    "        word = re.sub(r'[!|?|\\.|,|-|\\(|\\)]','',raw_word)\n",
    "        if not word in words_in_heb_dict:\n",
    "            problem_words.append(word)\n",
    "            break\n",
    "        else:\n",
    "            good_words.append(word)"
   ]
  },
  {
   "cell_type": "code",
   "execution_count": 29,
   "metadata": {},
   "outputs": [],
   "source": [
    "f = open('problematic_words.txt',\"w\")\n",
    "for word in problem_words:\n",
    "    f.write(f'{word}\\n')\n",
    "f.close()"
   ]
  }
 ],
 "metadata": {
  "kernelspec": {
   "display_name": "Python 3",
   "language": "python",
   "name": "python3"
  },
  "language_info": {
   "codemirror_mode": {
    "name": "ipython",
    "version": 3
   },
   "file_extension": ".py",
   "mimetype": "text/x-python",
   "name": "python",
   "nbconvert_exporter": "python",
   "pygments_lexer": "ipython3",
   "version": "3.7.7"
  }
 },
 "nbformat": 4,
 "nbformat_minor": 4
}
